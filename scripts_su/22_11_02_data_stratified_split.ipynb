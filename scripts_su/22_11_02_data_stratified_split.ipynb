{
 "cells": [
  {
   "cell_type": "markdown",
   "id": "eccd49d6",
   "metadata": {},
   "source": [
    "# Objective: check splits."
   ]
  },
  {
   "cell_type": "code",
   "execution_count": 1,
   "id": "8c84dec1",
   "metadata": {},
   "outputs": [],
   "source": [
    "import pandas as pd\n",
    "import h5py\n",
    "import numpy as np\n",
    "import matplotlib.pyplot as plt\n",
    "import seaborn as sns\n",
    "from sklearn import preprocessing\n",
    "import anndata as ad\n",
    "import scanpy as sc\n",
    "from sklearn.model_selection import StratifiedKFold"
   ]
  },
  {
   "cell_type": "code",
   "execution_count": 2,
   "id": "f0a14305",
   "metadata": {},
   "outputs": [
    {
     "name": "stdout",
     "output_type": "stream",
     "text": [
      "/projects/pfenninggroup/jemmie/mathys_hg_singlecell/miniconda3/envs/r42mamba/bin/python\n",
      "3.9.13 | packaged by conda-forge | (main, May 27 2022, 16:56:21) \n",
      "[GCC 10.3.0]\n"
     ]
    }
   ],
   "source": [
    "import sys\n",
    "print (sys.executable)\n",
    "print(sys.version)"
   ]
  },
  {
   "cell_type": "code",
   "execution_count": 6,
   "id": "4e36e319",
   "metadata": {},
   "outputs": [],
   "source": [
    "base_dir =\"/projects/pfenninggroup/singleCell/Ruzicka_snRNA_Seq\"\n",
    "data_dir = base_dir+ \"/data/\""
   ]
  },
  {
   "cell_type": "markdown",
   "id": "e212b3ea",
   "metadata": {},
   "source": [
    "### create splits first.\n"
   ]
  },
  {
   "cell_type": "code",
   "execution_count": 7,
   "id": "c64dc682",
   "metadata": {},
   "outputs": [
    {
     "data": {
      "text/plain": [
       "AnnData object with n_obs × n_vars = 69 × 17658\n",
       "    obs: 'orig.ident', 'nCount_RNA', 'nFeature_RNA', 'ID', 'Age', 'Phenotype'\n",
       "    var: '_index', 'features'"
      ]
     },
     "execution_count": 7,
     "metadata": {},
     "output_type": "execute_result"
    }
   ],
   "source": [
    "ps=ad.read_h5ad(base_dir+ \"/data/22_08_12_seurat_raw_FILTERED_neurons_only_controls_only_pseudobulk.h5ad\")\n",
    "ps"
   ]
  },
  {
   "cell_type": "code",
   "execution_count": 8,
   "id": "a7762151",
   "metadata": {},
   "outputs": [
    {
     "name": "stderr",
     "output_type": "stream",
     "text": [
      "/tmp/ipykernel_114777/1061557879.py:1: DtypeWarning: Columns (5,6) have mixed types. Specify dtype option on import or set low_memory=False.\n",
      "  meta =pd.read_csv(base_dir +\"/data/\"+\"Ruzicka_metadata.csv\")\n"
     ]
    },
    {
     "data": {
      "text/plain": [
       "<bound method NDFrame.head of                      index                  Id  sizeFactors   Cohort     ID  \\\n",
       "0       AAACCCAAGAACGCGT-1  AAACCCAAGAACGCGT-1     0.600758   McLean    SZ2   \n",
       "1       AAACCCAAGTACTCGT-1  AAACCCAAGTACTCGT-1     1.148219   McLean    SZ2   \n",
       "2       AAACCCACAATGAACA-1  AAACCCACAATGAACA-1     1.255586   McLean   CON3   \n",
       "3       AAACCCAGTATAGCTC-1  AAACCCAGTATAGCTC-1     0.577726   McLean   CON1   \n",
       "4       AAACCCATCATGAAAG-1  AAACCCATCATGAAAG-1     1.461431   McLean   CON2   \n",
       "...                    ...                 ...          ...      ...    ...   \n",
       "468722       B120405_C2314       B120405_C2314     0.361440  MtSinai  CON75   \n",
       "468723       B120405_C2318       B120405_C2318     0.153178  MtSinai  CON75   \n",
       "468724       B120405_C2319       B120405_C2319     0.166351  MtSinai  CON75   \n",
       "468725       B120405_C2320       B120405_C2320     0.163879  MtSinai  CON75   \n",
       "468726       B120405_C2325       B120405_C2325     0.157229  MtSinai  CON75   \n",
       "\n",
       "        Internal_ID    CMC_ID Phenotype           Batch           HTO  ...  \\\n",
       "0       Batch1.HTO5       NaN        SZ   McLean_Batch1   McLean_HTO5  ...   \n",
       "1       Batch1.HTO5       NaN        SZ   McLean_Batch1   McLean_HTO5  ...   \n",
       "2       Batch1.HTO9       NaN       CON   McLean_Batch1   McLean_HTO9  ...   \n",
       "3       Batch1.HTO7       NaN       CON   McLean_Batch1   McLean_HTO7  ...   \n",
       "4       Batch1.HTO8       NaN       CON   McLean_Batch1   McLean_HTO8  ...   \n",
       "...             ...       ...       ...             ...           ...  ...   \n",
       "468722       120405  MSSM_161       CON  MtSinai_Batch9  MtSinai_HTO4  ...   \n",
       "468723       120405  MSSM_161       CON  MtSinai_Batch9  MtSinai_HTO4  ...   \n",
       "468724       120405  MSSM_161       CON  MtSinai_Batch9  MtSinai_HTO4  ...   \n",
       "468725       120405  MSSM_161       CON  MtSinai_Batch9  MtSinai_HTO4  ...   \n",
       "468726       120405  MSSM_161       CON  MtSinai_Batch9  MtSinai_HTO4  ...   \n",
       "\n",
       "       Lithium           PRS  POP.EL3SD      Celltype    Color     umis  \\\n",
       "0            0 -5.225230e-07        EUR  Ex-L45_LRRK1  #27AA0F   8319.0   \n",
       "1            0 -5.225230e-07        EUR        Ex-L23  #5AED15  13787.0   \n",
       "2            0 -5.659020e-07        EUR  Ex-L45_LRRK1  #27AA0F  16161.0   \n",
       "3            0 -2.657400e-07        EUR    Ex-L4_MYLK  #30CD13   7461.0   \n",
       "4            0 -5.839680e-07        EUR         Ex-L3  #33DE14  19459.0   \n",
       "...        ...           ...        ...           ...      ...      ...   \n",
       "468722       0 -5.359310e-07        EUR         Ex-L2  #96F815   4024.0   \n",
       "468723       0 -5.359310e-07        EUR           Oli  #A65628   1827.0   \n",
       "468724       0 -5.359310e-07        EUR           Oli  #A65628   2032.0   \n",
       "468725       0 -5.359310e-07        EUR           Oli  #A65628   1991.0   \n",
       "468726       0 -5.359310e-07        EUR           Oli  #A65628   1764.0   \n",
       "\n",
       "         genes  mito.perc  assigned_archetype  node_centrality  \n",
       "0       2959.0   2.812838                  18         4.215580  \n",
       "1       4354.0   4.250381                  27         4.109965  \n",
       "2       4405.0   0.804406                  18         3.967605  \n",
       "3       2813.0   2.345530                  20         4.597615  \n",
       "4       4758.0   1.161416                  12         5.561494  \n",
       "...        ...        ...                 ...              ...  \n",
       "468722  2254.0   1.242545                   1         1.669066  \n",
       "468723  1118.0   0.000000                  19         2.833000  \n",
       "468724  1173.0   0.000000                   2         1.543669  \n",
       "468725  1169.0   0.200904                   2         1.603041  \n",
       "468726  1097.0   0.226757                   2         1.098380  \n",
       "\n",
       "[468727 rows x 33 columns]>"
      ]
     },
     "execution_count": 8,
     "metadata": {},
     "output_type": "execute_result"
    }
   ],
   "source": [
    "meta =pd.read_csv(base_dir +\"/data/\"+\"Ruzicka_metadata.csv\")\n",
    "meta.head"
   ]
  },
  {
   "cell_type": "code",
   "execution_count": 9,
   "id": "4b108ec1",
   "metadata": {},
   "outputs": [
    {
     "data": {
      "text/plain": [
       "(262713, 33)"
      ]
     },
     "execution_count": 9,
     "metadata": {},
     "output_type": "execute_result"
    }
   ],
   "source": [
    "meta=meta[meta[\"Phenotype\"]== \"CON\"]\n",
    "meta.shape"
   ]
  },
  {
   "cell_type": "code",
   "execution_count": 10,
   "id": "4f85b79d",
   "metadata": {},
   "outputs": [
    {
     "data": {
      "text/plain": [
       "(260832, 33)"
      ]
     },
     "execution_count": 10,
     "metadata": {},
     "output_type": "execute_result"
    }
   ],
   "source": [
    "meta=meta[meta[\"ID\"].isin(set(ps.obs['ID']))]\n",
    "meta.shape"
   ]
  },
  {
   "cell_type": "code",
   "execution_count": 11,
   "id": "6271f425",
   "metadata": {},
   "outputs": [
    {
     "data": {
      "text/plain": [
       "(69, 3)"
      ]
     },
     "execution_count": 11,
     "metadata": {},
     "output_type": "execute_result"
    }
   ],
   "source": [
    "meta=meta[[\"ID\", \"Gender\", \"Age\"]].drop_duplicates()\n",
    "meta.shape"
   ]
  },
  {
   "cell_type": "code",
   "execution_count": 12,
   "id": "ed7a759e",
   "metadata": {},
   "outputs": [
    {
     "data": {
      "text/plain": [
       "(23.999, 58.0]    19\n",
       "(69.0, 81.0]      17\n",
       "(81.0, 94.0]      17\n",
       "(58.0, 69.0]      16\n",
       "Name: Age_Bin, dtype: int64"
      ]
     },
     "execution_count": 12,
     "metadata": {},
     "output_type": "execute_result"
    }
   ],
   "source": [
    "# make age a binned variable\n",
    "meta['Age_Bin'] = pd.qcut(meta['Age'],q=4)\n",
    "meta['Age_Bin'].value_counts()"
   ]
  },
  {
   "cell_type": "code",
   "execution_count": 25,
   "id": "5b2e98b2",
   "metadata": {},
   "outputs": [
    {
     "data": {
      "text/plain": [
       "(23.999, 58.0]Male      14\n",
       "(81.0, 94.0]Male        11\n",
       "(58.0, 69.0]Female       9\n",
       "(69.0, 81.0]Female       9\n",
       "(69.0, 81.0]Male         8\n",
       "(58.0, 69.0]Male         7\n",
       "(81.0, 94.0]Female       6\n",
       "(23.999, 58.0]Female     5\n",
       "Name: age_gender, dtype: int64"
      ]
     },
     "execution_count": 25,
     "metadata": {},
     "output_type": "execute_result"
    }
   ],
   "source": [
    "meta['age_gender']=  meta[\"Age_Bin\"].astype(str)+meta[\"Gender\"]\n",
    "meta['age_gender'].value_counts()"
   ]
  },
  {
   "cell_type": "code",
   "execution_count": 34,
   "id": "ccf592da",
   "metadata": {},
   "outputs": [],
   "source": [
    "from sklearn.model_selection import train_test_split\n",
    "meta.index = meta[\"ID\"]\n",
    "df_train, df_test = train_test_split(meta, test_size=0.15, stratify=meta[[\"age_gender\"]], random_state=42)"
   ]
  },
  {
   "cell_type": "code",
   "execution_count": 35,
   "id": "9f4c01db",
   "metadata": {},
   "outputs": [
    {
     "data": {
      "text/plain": [
       "(23.999, 58.0]Male      12\n",
       "(81.0, 94.0]Male         9\n",
       "(69.0, 81.0]Female       8\n",
       "(58.0, 69.0]Female       7\n",
       "(69.0, 81.0]Male         7\n",
       "(58.0, 69.0]Male         6\n",
       "(81.0, 94.0]Female       5\n",
       "(23.999, 58.0]Female     4\n",
       "Name: age_gender, dtype: int64"
      ]
     },
     "execution_count": 35,
     "metadata": {},
     "output_type": "execute_result"
    }
   ],
   "source": [
    "#make a new age-gender bin.\n",
    "# df_train['Age_Bin'].value_counts()\n",
    "# df_train['age_gender']=  df_train[\"Age_Bin\"].astype(str)+df_train[\"Gender\"]\n",
    "df_train['age_gender'].value_counts()"
   ]
  },
  {
   "cell_type": "code",
   "execution_count": 36,
   "id": "0dfbdabc",
   "metadata": {},
   "outputs": [
    {
     "data": {
      "text/plain": [
       "(23.999, 58.0]Male      2\n",
       "(81.0, 94.0]Male        2\n",
       "(58.0, 69.0]Female      2\n",
       "(58.0, 69.0]Male        1\n",
       "(23.999, 58.0]Female    1\n",
       "(81.0, 94.0]Female      1\n",
       "(69.0, 81.0]Male        1\n",
       "(69.0, 81.0]Female      1\n",
       "Name: age_gender, dtype: int64"
      ]
     },
     "execution_count": 36,
     "metadata": {},
     "output_type": "execute_result"
    }
   ],
   "source": [
    "#tst['age_gender']= df_test[\"Age_Bin\"].astype(str)+df_test[\"Gender\"]\n",
    "df_test['age_gender'].value_counts()"
   ]
  },
  {
   "cell_type": "code",
   "execution_count": 37,
   "id": "a0edd9f9",
   "metadata": {},
   "outputs": [
    {
     "data": {
      "text/plain": [
       "(11, 5)"
      ]
     },
     "execution_count": 37,
     "metadata": {},
     "output_type": "execute_result"
    }
   ],
   "source": [
    "df_test.shape"
   ]
  },
  {
   "cell_type": "code",
   "execution_count": 56,
   "id": "db1a95ab",
   "metadata": {},
   "outputs": [],
   "source": [
    "# save a copy\n",
    "df_test.to_csv(base_dir+\"/data/22_11_02_df_test.csv\")\n",
    "#df_train.to_csv(base_dir+\"/data/22_11_02_df_train.csv\")"
   ]
  },
  {
   "cell_type": "code",
   "execution_count": 32,
   "id": "47b8d89e",
   "metadata": {},
   "outputs": [
    {
     "data": {
      "text/plain": [
       "array(['CON1', 'CON11', 'CON12', 'CON13', 'CON15', 'CON16', 'CON17',\n",
       "       'CON18', 'CON19', 'CON2', 'CON20', 'CON22', 'CON24', 'CON25',\n",
       "       'CON29', 'CON3', 'CON30', 'CON31', 'CON33', 'CON34', 'CON35',\n",
       "       'CON36', 'CON37', 'CON38', 'CON4', 'CON40', 'CON41', 'CON42',\n",
       "       'CON44', 'CON45', 'CON46', 'CON49', 'CON51', 'CON53', 'CON54',\n",
       "       'CON55', 'CON56', 'CON57', 'CON58', 'CON59', 'CON6', 'CON60',\n",
       "       'CON63', 'CON65', 'CON66', 'CON67', 'CON68', 'CON69', 'CON70',\n",
       "       'CON71', 'CON72', 'CON73', 'CON75', 'CON8', 'CON9'], dtype=object)"
      ]
     },
     "execution_count": 32,
     "metadata": {},
     "output_type": "execute_result"
    }
   ],
   "source": [
    "# temp1 = pd.read_csv(base_dir+\"/data/22_08_16_df_train.csv\")\n",
    "# np.unique(temp1['ID'])"
   ]
  },
  {
   "cell_type": "code",
   "execution_count": 38,
   "id": "a490c447",
   "metadata": {},
   "outputs": [
    {
     "data": {
      "text/plain": [
       "array(['CON1', 'CON10', 'CON11', 'CON12', 'CON13', 'CON14', 'CON15',\n",
       "       'CON16', 'CON17', 'CON18', 'CON19', 'CON2', 'CON21', 'CON23',\n",
       "       'CON24', 'CON25', 'CON27', 'CON28', 'CON29', 'CON3', 'CON30',\n",
       "       'CON31', 'CON33', 'CON34', 'CON35', 'CON36', 'CON37', 'CON4',\n",
       "       'CON40', 'CON41', 'CON42', 'CON44', 'CON45', 'CON49', 'CON5',\n",
       "       'CON51', 'CON52', 'CON53', 'CON54', 'CON55', 'CON57', 'CON59',\n",
       "       'CON60', 'CON61', 'CON62', 'CON63', 'CON64', 'CON66', 'CON67',\n",
       "       'CON68', 'CON69', 'CON70', 'CON71', 'CON72', 'CON73', 'CON74',\n",
       "       'CON8', 'CON9'], dtype=object)"
      ]
     },
     "execution_count": 38,
     "metadata": {},
     "output_type": "execute_result"
    }
   ],
   "source": [
    "np.unique(df_train['ID'])"
   ]
  },
  {
   "cell_type": "markdown",
   "id": "d24f605c",
   "metadata": {},
   "source": [
    "### Add a validation split. "
   ]
  },
  {
   "cell_type": "code",
   "execution_count": 40,
   "id": "3e2e029e",
   "metadata": {},
   "outputs": [
    {
     "data": {
      "text/plain": [
       "(49, 5)"
      ]
     },
     "execution_count": 40,
     "metadata": {},
     "output_type": "execute_result"
    }
   ],
   "source": [
    "train, df_val = train_test_split(df_train, test_size=0.15, stratify=df_train[[\"age_gender\"]], random_state=42)\n",
    "train.shape"
   ]
  },
  {
   "cell_type": "code",
   "execution_count": 41,
   "id": "0aac3c3e",
   "metadata": {},
   "outputs": [
    {
     "data": {
      "text/plain": [
       "(23.999, 58.0]Male      10\n",
       "(81.0, 94.0]Male         8\n",
       "(69.0, 81.0]Female       7\n",
       "(69.0, 81.0]Male         6\n",
       "(58.0, 69.0]Female       6\n",
       "(58.0, 69.0]Male         5\n",
       "(81.0, 94.0]Female       4\n",
       "(23.999, 58.0]Female     3\n",
       "Name: age_gender, dtype: int64"
      ]
     },
     "execution_count": 41,
     "metadata": {},
     "output_type": "execute_result"
    }
   ],
   "source": [
    "train['age_gender'].value_counts()"
   ]
  },
  {
   "cell_type": "code",
   "execution_count": 43,
   "id": "5c1c0e6e",
   "metadata": {},
   "outputs": [],
   "source": [
    "train.to_csv(base_dir+\"/data/22_11_02_df_train.csv\")\n",
    "df_val.to_csv(base_dir+\"/data/22_11_02_df_val.csv\")"
   ]
  },
  {
   "cell_type": "markdown",
   "id": "0895e202",
   "metadata": {},
   "source": [
    "#### Check all IDs are in the final file."
   ]
  },
  {
   "cell_type": "code",
   "execution_count": 58,
   "id": "6d8be7cc",
   "metadata": {},
   "outputs": [
    {
     "data": {
      "text/plain": [
       "69"
      ]
     },
     "execution_count": 58,
     "metadata": {},
     "output_type": "execute_result"
    }
   ],
   "source": [
    "import functools\n",
    "len(set().union(*[set(train['ID'].values), \n",
    "                  set(df_val['ID'].values), \n",
    "                  set(df_test['ID'].values)])) # yes. It's all 55."
   ]
  },
  {
   "cell_type": "markdown",
   "id": "ecf4528d",
   "metadata": {},
   "source": [
    "Now, let's visualize our folds to determine:\n",
    "- the val distribution is representative of the test distribution\n",
    "- there isn't a drastic inbalance of gender between train and val splits"
   ]
  },
  {
   "cell_type": "code",
   "execution_count": 61,
   "id": "891bd113",
   "metadata": {},
   "outputs": [
    {
     "data": {
      "text/plain": [
       "Male      6\n",
       "Female    5\n",
       "Name: Gender, dtype: int64"
      ]
     },
     "execution_count": 61,
     "metadata": {},
     "output_type": "execute_result"
    }
   ],
   "source": [
    "df_test['Gender'].value_counts() # 6/11=0.54"
   ]
  },
  {
   "cell_type": "code",
   "execution_count": 62,
   "id": "47c53e97",
   "metadata": {
    "scrolled": true
   },
   "outputs": [
    {
     "data": {
      "text/plain": [
       "Male      29\n",
       "Female    20\n",
       "Name: Gender, dtype: int64"
      ]
     },
     "execution_count": 62,
     "metadata": {},
     "output_type": "execute_result"
    }
   ],
   "source": [
    "train['Gender'].value_counts() # 29/49=0.59"
   ]
  },
  {
   "cell_type": "code",
   "execution_count": 63,
   "id": "82dccc27",
   "metadata": {},
   "outputs": [
    {
     "data": {
      "text/plain": [
       "Male      5\n",
       "Female    4\n",
       "Name: Gender, dtype: int64"
      ]
     },
     "execution_count": 63,
     "metadata": {},
     "output_type": "execute_result"
    }
   ],
   "source": [
    "df_val['Gender'].value_counts() # 5/9 = 0.56"
   ]
  },
  {
   "cell_type": "code",
   "execution_count": null,
   "id": "d21847a6",
   "metadata": {},
   "outputs": [],
   "source": []
  }
 ],
 "metadata": {
  "kernelspec": {
   "display_name": "Python 3 (ipykernel)",
   "language": "python",
   "name": "python3"
  },
  "language_info": {
   "codemirror_mode": {
    "name": "ipython",
    "version": 3
   },
   "file_extension": ".py",
   "mimetype": "text/x-python",
   "name": "python",
   "nbconvert_exporter": "python",
   "pygments_lexer": "ipython3",
   "version": "3.9.13"
  }
 },
 "nbformat": 4,
 "nbformat_minor": 5
}
